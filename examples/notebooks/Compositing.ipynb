{
 "cells": [
  {
   "cell_type": "markdown",
   "metadata": {
    "deletable": true,
    "editable": true
   },
   "source": [
    "# Open-EO Proof Of Concept: Compositing\n",
    "This notebook explains and demonstrates the OpenEO client API, as well as some concepts of the core API."
   ]
  },
  {
   "cell_type": "markdown",
   "metadata": {},
   "source": [
    "The OpenEO client API is distributed as a lightweight Python module. The dependencies of this module are limited to a set of well known modules such as numpy and pandas. This should allow it to run in different environments, and as part of larger workflows.\n",
    "To get started, we import OpenEO, and set up standard Python logging."
   ]
  },
  {
   "cell_type": "code",
   "execution_count": 12,
   "metadata": {
    "collapsed": false,
    "deletable": true,
    "editable": true
   },
   "outputs": [],
   "source": [
    "import openeo\n",
    "import logging\n",
    "logging.basicConfig(level=logging.DEBUG)"
   ]
  },
  {
   "cell_type": "markdown",
   "metadata": {
    "deletable": true,
    "editable": true
   },
   "source": [
    "To connect with an OpenEO backend, we create a session. Each OpenEO backend has a different endpoint, metadata and credentials. A session object contains this information, and is the starting point for subsequent calls. "
   ]
  },
  {
   "cell_type": "code",
   "execution_count": 2,
   "metadata": {
    "collapsed": true,
    "deletable": true,
    "editable": true
   },
   "outputs": [],
   "source": [
    "session = openeo.session(\"nobody\", \"http://openeo.vgt.vito.be\")"
   ]
  },
  {
   "cell_type": "markdown",
   "metadata": {
    "deletable": true,
    "editable": true
   },
   "source": [
    "Our first use case is to create a composite image by taking the maximum pixel value over a timeseries of images.\n",
    "To do this, we first need to select input data. Each OpenEO endpoint exposes it's own list of image collections.\n",
    "For instance: http://openeo.vgt.vito.be/openeo/data\n",
    "\n",
    "Preferably, these layers and their descriptions and metadata can be browsed online, so a user can discover data that suits his needs.\n",
    "\n",
    "In this example, the collection id is 'S2_FAPAR_V101', which corresponds to the fAPAR biophysical parameter at 10M resolution over Belgium, derived from Sentinel 2 data.\n",
    "\n",
    "In the client code, the user can create an image collection quite easily. This is just an empty object on which further operations need to be defined:"
   ]
  },
  {
   "cell_type": "code",
   "execution_count": 19,
   "metadata": {
    "collapsed": false,
    "deletable": true,
    "editable": true
   },
   "outputs": [
    {
     "data": {
      "text/plain": [
       "<openeo.rest.imagecollection.RestImageCollection at 0x7f8308a5b358>"
      ]
     },
     "execution_count": 19,
     "metadata": {},
     "output_type": "execute_result"
    }
   ],
   "source": [
    "s2_fapar = session.imagecollection(\"S2_FAPAR_V101\")\n",
    "s2_fapar"
   ]
  },
  {
   "cell_type": "markdown",
   "metadata": {},
   "source": [
    "As the image collection can be quite large, a first step is usually to define a spatial and temporal subset on which we want to operate. This can be done by specifying a date range and a bounding box:"
   ]
  },
  {
   "cell_type": "code",
   "execution_count": 20,
   "metadata": {
    "collapsed": false
   },
   "outputs": [
    {
     "data": {
      "text/plain": [
       "<openeo.rest.imagecollection.RestImageCollection at 0x7f8339101c88>"
      ]
     },
     "execution_count": 20,
     "metadata": {},
     "output_type": "execute_result"
    }
   ],
   "source": [
    "timeseries = s2_fapar\\\n",
    ".date_range_filter(\"2017-04-01\",\"2017-09-10\")\\\n",
    ".bbox_filter(left=4.3,right=5.0,top=50.55,bottom=50.28,srs=\"EPSG:4326\")\n",
    "timeseries"
   ]
  },
  {
   "cell_type": "markdown",
   "metadata": {},
   "source": [
    "Now we're all set to compute the composite, the max_time function allows us to specify the function that needs to be applied, but does not yet compute a result:"
   ]
  },
  {
   "cell_type": "code",
   "execution_count": 24,
   "metadata": {
    "collapsed": false
   },
   "outputs": [
    {
     "name": "stdout",
     "output_type": "stream",
     "text": [
      "CPU times: user 20 µs, sys: 24 µs, total: 44 µs\n",
      "Wall time: 53.9 µs\n"
     ]
    },
    {
     "data": {
      "text/plain": [
       "<openeo.rest.imagecollection.RestImageCollection at 0x7f8308a5bdd8>"
      ]
     },
     "execution_count": 24,
     "metadata": {},
     "output_type": "execute_result"
    }
   ],
   "source": [
    "%time composite = timeseries.max_time()\n",
    "composite"
   ]
  },
  {
   "cell_type": "markdown",
   "metadata": {
    "deletable": true,
    "editable": true
   },
   "source": [
    "Up to this point, the OpenEO backend has not yet received a request for computation. We have only specified what is called a 'process graph' in OpenEO terms.\n",
    "We can do a few things with a process graph, let's start with downloading its result as a GeoTiff:"
   ]
  },
  {
   "cell_type": "code",
   "execution_count": 25,
   "metadata": {
    "collapsed": false,
    "deletable": true,
    "editable": true
   },
   "outputs": [
    {
     "name": "stderr",
     "output_type": "stream",
     "text": [
      "DEBUG:urllib3.connectionpool:Starting new HTTP connection (1): openeo.vgt.vito.be\n",
      "DEBUG:urllib3.connectionpool:http://openeo.vgt.vito.be:80 \"POST /openeo/execute HTTP/1.1\" 200 23605637\n"
     ]
    },
    {
     "name": "stdout",
     "output_type": "stream",
     "text": [
      "CPU times: user 364 ms, sys: 233 ms, total: 598 ms\n",
      "Wall time: 48.1 s\n"
     ]
    }
   ],
   "source": [
    "%time composite.download(\"./openeo-composite.geotiff\",\"geotiff\")"
   ]
  },
  {
   "cell_type": "markdown",
   "metadata": {},
   "source": [
    "The debug logging shows us that this call has sent our 'process graph' to: /openeo/execute. This particular composite took only 48 seconds to compute over a timeseries of about 5 months worth of input data. \n",
    "\n",
    "This shows one of the key points of OpenEO: the algorithm gets distributed over processing resources close to the data, which can greatly speed up processing.\n",
    "\n",
    "Now it's time to inspect our result. One way is to use gdalinfo:"
   ]
  },
  {
   "cell_type": "code",
   "execution_count": 26,
   "metadata": {
    "collapsed": false,
    "deletable": true,
    "editable": true
   },
   "outputs": [
    {
     "name": "stdout",
     "output_type": "stream",
     "text": [
      "-rw-r--r--. 1 driesj driesj 23M Mar  2 20:30 openeo-composite.geotiff\n",
      "-rw-r--r--. 1 driesj driesj 878 Mar  2 15:50 openeo-composite.geotiff.aux.xml\n",
      "Driver: GTiff/GeoTIFF\n",
      "Files: openeo-composite.geotiff\n",
      "Size is 7680, 3072\n",
      "Coordinate System is:\n",
      "GEOGCS[\"WGS 84\",\n",
      "    DATUM[\"WGS_1984\",\n",
      "        SPHEROID[\"WGS 84\",6378137,298.257223563,\n",
      "            AUTHORITY[\"EPSG\",\"7030\"]],\n",
      "        AUTHORITY[\"EPSG\",\"6326\"]],\n",
      "    PRIMEM[\"Greenwich\",0],\n",
      "    UNIT[\"degree\",0.0174532925199433],\n",
      "    AUTHORITY[\"EPSG\",\"4326\"]]\n",
      "Origin = (4.298130412513061,50.558600934228501)\n",
      "Pixel Size = (0.000097215289858,-0.000097215289858)\n",
      "Metadata:\n",
      "  AREA_OR_POINT=Area\n",
      "Image Structure Metadata:\n",
      "  INTERLEAVE=BAND\n",
      "Corner Coordinates:\n",
      "Upper Left  (   4.2981304,  50.5586009) (  4d17'53.27\"E, 50d33'30.96\"N)\n",
      "Lower Left  (   4.2981304,  50.2599556) (  4d17'53.27\"E, 50d15'35.84\"N)\n",
      "Upper Right (   5.0447438,  50.5586009) (  5d 2'41.08\"E, 50d33'30.96\"N)\n",
      "Lower Right (   5.0447438,  50.2599556) (  5d 2'41.08\"E, 50d15'35.84\"N)\n",
      "Center      (   4.6714371,  50.4092782) (  4d40'17.17\"E, 50d24'33.40\"N)\n",
      "Band 1 Block=7680x2 Type=Byte, ColorInterp=Gray\n",
      "0...10...20...30...40...50...60...70...80...90...100 - done.\n",
      "  256 buckets from -0.5 to 255.5:\n",
      "  0 0 0 0 0 0 0 0 0 0 0 0 0 0 0 0 0 0 0 0 0 0 0 0 0 0 0 0 0 0 0 0 0 0 0 0 0 0 0 0 0 0 0 0 0 0 0 0 0 0 0 0 0 0 0 0 0 0 0 0 0 0 0 0 0 0 0 0 0 0 0 0 0 0 0 0 0 0 0 0 0 0 0 0 0 0 0 0 0 0 0 0 0 0 0 0 0 0 0 0 0 0 0 0 0 0 0 0 0 0 0 0 0 0 0 0 0 0 0 0 0 0 0 0 0 0 0 0 0 0 0 0 0 0 0 0 0 0 0 0 0 0 0 0 0 0 0 0 0 0 0 0 0 0 0 0 0 0 0 0 0 0 0 0 0 0 0 0 0 0 0 0 0 0 0 0 0 0 0 0 0 0 0 0 0 0 0 0 0 0 0 0 0 0 0 0 0 0 0 0 0 0 0 0 0 0 0 0 0 0 0 0 0 0 0 0 0 0 0 0 0 0 0 0 0 0 0 0 0 0 0 0 0 0 0 0 0 0 0 0 0 0 0 0 0 0 0 0 0 0 0 0 0 0 0 0 \n",
      "  NoData Value=255\n"
     ]
    }
   ],
   "source": [
    "!ls -lh openeo-composite.*\n",
    "!rm openeo-composite.geotiff.aux.xml\n",
    "!gdalinfo -hist openeo-composite.geotiff"
   ]
  },
  {
   "cell_type": "markdown",
   "metadata": {
    "deletable": true,
    "editable": true
   },
   "source": [
    "## Retrieving a timeseries for a point\n",
    "Instead of reducing our timeseries of images into a composite, we can also request each value for a given geographical coordinate. \n",
    "\n",
    "This call can be executed directly on the timeseries that we defined earlier:"
   ]
  },
  {
   "cell_type": "code",
   "execution_count": 28,
   "metadata": {
    "collapsed": false,
    "deletable": true,
    "editable": true
   },
   "outputs": [
    {
     "name": "stderr",
     "output_type": "stream",
     "text": [
      "DEBUG:urllib3.connectionpool:Starting new HTTP connection (1): openeo.vgt.vito.be\n",
      "DEBUG:urllib3.connectionpool:http://openeo.vgt.vito.be:80 \"POST /openeo/timeseries/point?x=4.4&y=50.3&srs=EPSG:4326 HTTP/1.1\" 200 3133\n"
     ]
    },
    {
     "name": "stdout",
     "output_type": "stream",
     "text": [
      "CPU times: user 15.9 ms, sys: 7.92 ms, total: 23.9 ms\n",
      "Wall time: 40.2 s\n"
     ]
    },
    {
     "data": {
      "text/plain": [
       "{'2017-04-03T00:00:00+00:00': [106.0],\n",
       " '2017-04-06T00:00:00+00:00': [nan],\n",
       " '2017-04-09T00:00:00+00:00': [nan],\n",
       " '2017-04-16T00:00:00+00:00': [nan],\n",
       " '2017-04-19T00:00:00+00:00': [nan],\n",
       " '2017-04-23T00:00:00+00:00': [nan],\n",
       " '2017-04-26T00:00:00+00:00': [nan],\n",
       " '2017-04-29T00:00:00+00:00': [nan],\n",
       " '2017-05-03T00:00:00+00:00': [nan],\n",
       " '2017-05-06T00:00:00+00:00': [131.0],\n",
       " '2017-05-09T00:00:00+00:00': [nan],\n",
       " '2017-05-13T00:00:00+00:00': [112.0],\n",
       " '2017-05-16T00:00:00+00:00': [48.0],\n",
       " '2017-05-19T00:00:00+00:00': [nan],\n",
       " '2017-05-23T00:00:00+00:00': [nan],\n",
       " '2017-05-26T00:00:00+00:00': [175.0],\n",
       " '2017-05-29T00:00:00+00:00': [nan],\n",
       " '2017-06-02T00:00:00+00:00': [63.0],\n",
       " '2017-06-05T00:00:00+00:00': [158.0],\n",
       " '2017-06-12T00:00:00+00:00': [nan],\n",
       " '2017-06-15T00:00:00+00:00': [87.0],\n",
       " '2017-06-18T00:00:00+00:00': [nan],\n",
       " '2017-06-22T00:00:00+00:00': [82.0],\n",
       " '2017-06-25T00:00:00+00:00': [nan],\n",
       " '2017-06-28T00:00:00+00:00': [nan],\n",
       " '2017-06-30T00:00:00+00:00': [nan],\n",
       " '2017-07-02T00:00:00+00:00': [nan],\n",
       " '2017-07-03T00:00:00+00:00': [nan],\n",
       " '2017-07-05T00:00:00+00:00': [166.0],\n",
       " '2017-07-07T00:00:00+00:00': [166.0],\n",
       " '2017-07-10T00:00:00+00:00': [nan],\n",
       " '2017-07-12T00:00:00+00:00': [63.0],\n",
       " '2017-07-13T00:00:00+00:00': [nan],\n",
       " '2017-07-17T00:00:00+00:00': [nan],\n",
       " '2017-07-18T00:00:00+00:00': [nan],\n",
       " '2017-07-20T00:00:00+00:00': [nan],\n",
       " '2017-07-22T00:00:00+00:00': [nan],\n",
       " '2017-07-23T00:00:00+00:00': [nan],\n",
       " '2017-07-25T00:00:00+00:00': [nan],\n",
       " '2017-07-27T00:00:00+00:00': [nan],\n",
       " '2017-07-28T00:00:00+00:00': [nan],\n",
       " '2017-07-30T00:00:00+00:00': [91.0],\n",
       " '2017-08-02T00:00:00+00:00': [nan],\n",
       " '2017-08-04T00:00:00+00:00': [nan],\n",
       " '2017-08-06T00:00:00+00:00': [96.0],\n",
       " '2017-08-07T00:00:00+00:00': [nan],\n",
       " '2017-08-09T00:00:00+00:00': [nan],\n",
       " '2017-08-11T00:00:00+00:00': [54.0],\n",
       " '2017-08-12T00:00:00+00:00': [nan],\n",
       " '2017-08-14T00:00:00+00:00': [181.0],\n",
       " '2017-08-16T00:00:00+00:00': [nan],\n",
       " '2017-08-17T00:00:00+00:00': [nan],\n",
       " '2017-08-19T00:00:00+00:00': [nan],\n",
       " '2017-08-21T00:00:00+00:00': [nan],\n",
       " '2017-08-22T00:00:00+00:00': [nan],\n",
       " '2017-08-24T00:00:00+00:00': [84.0],\n",
       " '2017-08-26T00:00:00+00:00': [94.0],\n",
       " '2017-08-27T00:00:00+00:00': [nan],\n",
       " '2017-08-29T00:00:00+00:00': [160.0],\n",
       " '2017-08-31T00:00:00+00:00': [59.0],\n",
       " '2017-09-01T00:00:00+00:00': [nan],\n",
       " '2017-09-03T00:00:00+00:00': [nan],\n",
       " '2017-09-05T00:00:00+00:00': [nan],\n",
       " '2017-09-06T00:00:00+00:00': [nan],\n",
       " '2017-09-08T00:00:00+00:00': [nan],\n",
       " '2017-09-10T00:00:00+00:00': [nan]}"
      ]
     },
     "execution_count": 28,
     "metadata": {},
     "output_type": "execute_result"
    }
   ],
   "source": [
    "%time point_timeseries = timeseries.timeseries(4.4,50.30,srs=\"EPSG:4326\")\n",
    "point_timeseries.json()"
   ]
  },
  {
   "cell_type": "code",
   "execution_count": 8,
   "metadata": {
    "collapsed": false,
    "deletable": true,
    "editable": true
   },
   "outputs": [
    {
     "data": {
      "text/plain": [
       "<matplotlib.axes._subplots.AxesSubplot at 0x7f833e076470>"
      ]
     },
     "execution_count": 8,
     "metadata": {},
     "output_type": "execute_result"
    },
    {
     "data": {
      "image/png": "[encoded data removed]",
      "text/plain": [
       "<matplotlib.figure.Figure at 0x7f8381a23dd8>"
      ]
     },
     "metadata": {},
     "output_type": "display_data"
    }
   ],
   "source": [
    "import pandas as pd\n",
    "series_df = pd.DataFrame.from_dict(timeseries.json(), orient=\"index\")\n",
    "series_df.index = pd.to_datetime(series_df.index)\n",
    "import seaborn as sns\n",
    "%matplotlib inline\n",
    "series_df.dropna().plot()\n"
   ]
  },
  {
   "cell_type": "code",
   "execution_count": 9,
   "metadata": {
    "collapsed": false,
    "deletable": true,
    "editable": true
   },
   "outputs": [
    {
     "data": {
      "text/html": [
       "<div>\n",
       "<style scoped>\n",
       "    .dataframe tbody tr th:only-of-type {\n",
       "        vertical-align: middle;\n",
       "    }\n",
       "\n",
       "    .dataframe tbody tr th {\n",
       "        vertical-align: top;\n",
       "    }\n",
       "\n",
       "    .dataframe thead th {\n",
       "        text-align: right;\n",
       "    }\n",
       "</style>\n",
       "<table border=\"1\" class=\"dataframe\">\n",
       "  <thead>\n",
       "    <tr style=\"text-align: right;\">\n",
       "      <th></th>\n",
       "      <th>0</th>\n",
       "    </tr>\n",
       "  </thead>\n",
       "  <tbody>\n",
       "    <tr>\n",
       "      <th>2017-06-02</th>\n",
       "      <td>63.0</td>\n",
       "    </tr>\n",
       "    <tr>\n",
       "      <th>2017-05-16</th>\n",
       "      <td>48.0</td>\n",
       "    </tr>\n",
       "    <tr>\n",
       "      <th>2017-05-13</th>\n",
       "      <td>112.0</td>\n",
       "    </tr>\n",
       "    <tr>\n",
       "      <th>2017-06-22</th>\n",
       "      <td>82.0</td>\n",
       "    </tr>\n",
       "    <tr>\n",
       "      <th>2017-06-15</th>\n",
       "      <td>87.0</td>\n",
       "    </tr>\n",
       "    <tr>\n",
       "      <th>2017-08-11</th>\n",
       "      <td>54.0</td>\n",
       "    </tr>\n",
       "    <tr>\n",
       "      <th>2017-07-30</th>\n",
       "      <td>91.0</td>\n",
       "    </tr>\n",
       "    <tr>\n",
       "      <th>2017-07-12</th>\n",
       "      <td>63.0</td>\n",
       "    </tr>\n",
       "    <tr>\n",
       "      <th>2017-08-31</th>\n",
       "      <td>59.0</td>\n",
       "    </tr>\n",
       "    <tr>\n",
       "      <th>2017-05-06</th>\n",
       "      <td>131.0</td>\n",
       "    </tr>\n",
       "    <tr>\n",
       "      <th>2017-08-29</th>\n",
       "      <td>160.0</td>\n",
       "    </tr>\n",
       "    <tr>\n",
       "      <th>2017-04-03</th>\n",
       "      <td>106.0</td>\n",
       "    </tr>\n",
       "    <tr>\n",
       "      <th>2017-08-06</th>\n",
       "      <td>96.0</td>\n",
       "    </tr>\n",
       "    <tr>\n",
       "      <th>2017-07-07</th>\n",
       "      <td>166.0</td>\n",
       "    </tr>\n",
       "    <tr>\n",
       "      <th>2017-07-05</th>\n",
       "      <td>166.0</td>\n",
       "    </tr>\n",
       "    <tr>\n",
       "      <th>2017-06-05</th>\n",
       "      <td>158.0</td>\n",
       "    </tr>\n",
       "    <tr>\n",
       "      <th>2017-08-14</th>\n",
       "      <td>181.0</td>\n",
       "    </tr>\n",
       "    <tr>\n",
       "      <th>2017-05-26</th>\n",
       "      <td>175.0</td>\n",
       "    </tr>\n",
       "    <tr>\n",
       "      <th>2017-08-24</th>\n",
       "      <td>84.0</td>\n",
       "    </tr>\n",
       "    <tr>\n",
       "      <th>2017-08-26</th>\n",
       "      <td>94.0</td>\n",
       "    </tr>\n",
       "  </tbody>\n",
       "</table>\n",
       "</div>"
      ],
      "text/plain": [
       "                0\n",
       "2017-06-02   63.0\n",
       "2017-05-16   48.0\n",
       "2017-05-13  112.0\n",
       "2017-06-22   82.0\n",
       "2017-06-15   87.0\n",
       "2017-08-11   54.0\n",
       "2017-07-30   91.0\n",
       "2017-07-12   63.0\n",
       "2017-08-31   59.0\n",
       "2017-05-06  131.0\n",
       "2017-08-29  160.0\n",
       "2017-04-03  106.0\n",
       "2017-08-06   96.0\n",
       "2017-07-07  166.0\n",
       "2017-07-05  166.0\n",
       "2017-06-05  158.0\n",
       "2017-08-14  181.0\n",
       "2017-05-26  175.0\n",
       "2017-08-24   84.0\n",
       "2017-08-26   94.0"
      ]
     },
     "execution_count": 9,
     "metadata": {},
     "output_type": "execute_result"
    }
   ],
   "source": [
    "series_df.dropna()"
   ]
  },
  {
   "cell_type": "markdown",
   "metadata": {
    "deletable": true,
    "editable": true
   },
   "source": [
    "## Showing the result\n",
    "Using rasterio, we can load and plot our downloaded file."
   ]
  },
  {
   "cell_type": "code",
   "execution_count": 10,
   "metadata": {
    "collapsed": false,
    "deletable": true,
    "editable": true
   },
   "outputs": [],
   "source": [
    "import rasterio\n",
    "%matplotlib inline"
   ]
  },
  {
   "cell_type": "code",
   "execution_count": 2,
   "metadata": {
    "collapsed": false,
    "deletable": true,
    "editable": true
   },
   "outputs": [],
   "source": []
  },
  {
   "cell_type": "code",
   "execution_count": 11,
   "metadata": {
    "collapsed": false,
    "deletable": true,
    "editable": true
   },
   "outputs": [
    {
     "data": {
      "image/png": "[encoded data removed]",
      "text/plain": [
       "<matplotlib.figure.Figure at 0x7f83390eaef0>"
      ]
     },
     "metadata": {},
     "output_type": "display_data"
    }
   ],
   "source": [
    "from rasterio.plot import show\n",
    "from matplotlib import pyplot\n",
    "composite_local = rasterio.open(\"./openeo-composite.geotiff\")\n",
    "#fig, ax = pyplot.subplots(1, figsize=(20, 6))\n",
    "show(composite_local.read(1))\n",
    "composite_local.close()\n",
    "#pyplot.show()"
   ]
  }
 ],
 "metadata": {
  "kernelspec": {
   "display_name": "Python 3",
   "language": "python",
   "name": "python3"
  },
  "language_info": {
   "codemirror_mode": {
    "name": "ipython",
    "version": 3
   },
   "file_extension": ".py",
   "mimetype": "text/x-python",
   "name": "python",
   "nbconvert_exporter": "python",
   "pygments_lexer": "ipython3",
   "version": "3.5.1"
  }
 },
 "nbformat": 4,
 "nbformat_minor": 2
}
