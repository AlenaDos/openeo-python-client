{
 "cells": [
  {
   "cell_type": "markdown",
   "metadata": {},
   "source": [
    "# OpenEO Connection to EODC Backend"
   ]
  },
  {
   "cell_type": "code",
   "execution_count": 1,
   "metadata": {},
   "outputs": [],
   "source": [
    "import logging\n",
    "import openeo\n",
    "logging.basicConfig(level=logging.INFO)"
   ]
  },
  {
   "cell_type": "code",
   "execution_count": 2,
   "metadata": {},
   "outputs": [],
   "source": [
    "# Define constants\n",
    "\n",
    "# Connection\n",
    "EODC_DRIVER_URL = \"http://openeo.eodc.eu\"\n",
    "OUTPUT_FILE = \"/tmp/openeo_eodc_output.tiff\"\n",
    "\n",
    "EODC_USER = \"user1\"\n",
    "EODC_PWD = \"Test123#\"\n",
    "\n",
    "# Data\n",
    "PRODUCT_ID = \"s2a_prd_msil1c\"\n",
    "\n",
    "DATE_START = \"2017-01-01\"\n",
    "DATE_END = \"2017-01-08\"\n",
    "\n",
    "IMAGE_LEFT = 652000\n",
    "IMAGE_RIGHT = 672000\n",
    "IMAGE_TOP = 5161000\n",
    "IMAGE_BOTTOM = 5181000\n",
    "IMAGE_SRS = \"EPSG:32632\"\n",
    "\n",
    "# Processes\n",
    "NDVI_RED = \"B04\"\n",
    "NDVI_NIR = \"B08\""
   ]
  },
  {
   "cell_type": "code",
   "execution_count": 3,
   "metadata": {},
   "outputs": [
    {
     "data": {
      "text/plain": [
       "<openeo.rest.rest_session.RESTSession at 0x7fb4004e3358>"
      ]
     },
     "execution_count": 3,
     "output_type": "execute_result",
     "metadata": {}
    }
   ],
   "source": [
    "# Connect with EODC backend\n",
    "session = openeo.session(EODC_USER, endpoint=EODC_DRIVER_URL)\n",
    "# Login \n",
    "token = session.auth(EODC_USER, EODC_PWD)\n",
    "\n",
    "session"
   ]
  },
  {
   "cell_type": "code",
   "execution_count": 4,
   "metadata": {},
   "outputs": [
    {
     "data": {
      "text/plain": [
       "[{'description': 'Sentinel-2 is a multispectral, high-resolution, optical imaging mission, developed by the European Space Agency (ESA) in the frame of the Copernicus program of the European Commission.',\n",
       "  'product_id': 's2a_prd_msil1c',\n",
       "  'source': 'ESA'}]"
      ]
     },
     "execution_count": 4,
     "output_type": "execute_result",
     "metadata": {}
    }
   ],
   "source": [
    "# Retrieve the list of available collections\n",
    "collections = session.imagecollections()\n",
    "\n",
    "list(collections)[:5]"
   ]
  },
  {
   "cell_type": "code",
   "execution_count": 5,
   "metadata": {},
   "outputs": [
    {
     "data": {
      "text/plain": [
       "<openeo.rest.imagery.RestImagery at 0x7fb4004e3da0>"
      ]
     },
     "execution_count": 5,
     "output_type": "execute_result",
     "metadata": {}
    }
   ],
   "source": [
    "# Select collection product\n",
    "s2a_prd_msil1c = session.image(PRODUCT_ID)\n",
    "\n",
    "s2a_prd_msil1c"
   ]
  },
  {
   "cell_type": "code",
   "execution_count": 6,
   "metadata": {},
   "outputs": [
    {
     "data": {
      "text/plain": [
       "<openeo.rest.imagery.RestImagery at 0x7fb3cdb58240>"
      ]
     },
     "execution_count": 6,
     "output_type": "execute_result",
     "metadata": {}
    }
   ],
   "source": [
    "# Specifying the date range and the bounding box\n",
    "timeseries = s2a_prd_msil1c.bbox_filter(left=IMAGE_LEFT, right=IMAGE_RIGHT, top=IMAGE_TOP,\n",
    "                                             bottom=IMAGE_BOTTOM, srs=IMAGE_SRS)\n",
    "timeseries = timeseries.date_range_filter(DATE_START, DATE_END)\n",
    "\n",
    "timeseries"
   ]
  },
  {
   "cell_type": "code",
   "execution_count": 7,
   "metadata": {},
   "outputs": [
    {
     "data": {
      "text/plain": [
       "<openeo.rest.imagery.RestImagery at 0x7fb3cdb58160>"
      ]
     },
     "execution_count": 7,
     "output_type": "execute_result",
     "metadata": {}
    }
   ],
   "source": [
    "# Applying some operations on the data\n",
    "timeseries = timeseries.ndvi(NDVI_RED, NDVI_NIR)\n",
    "timeseries = timeseries.min_time()\n",
    "\n",
    "timeseries"
   ]
  },
  {
   "cell_type": "code",
   "execution_count": 8,
   "metadata": {},
   "outputs": [
    {
     "data": {
      "text/plain": [
       "<openeo.rest.job.ClientJob at 0x7fb405f16940>"
      ]
     },
     "execution_count": 8,
     "output_type": "execute_result",
     "metadata": {}
    }
   ],
   "source": [
    "# Sending the job to the backend\n",
    "job = timeseries.send_job()\n",
    "\n",
    "job"
   ]
  },
  {
   "cell_type": "code",
   "execution_count": null,
   "metadata": {},
   "outputs": [],
   "source": [
    "# Queue job to start the processing\n",
    "status = job.queue()"
   ]
  },
  {
   "cell_type": "code",
   "execution_count": null,
   "metadata": {},
   "outputs": [],
   "source": [
    "# Get Status of Job\n",
    "status = job.status()\n",
    "\n",
    "status"
   ]
  },
  {
   "cell_type": "code",
   "execution_count": 10,
   "metadata": {},
   "outputs": [
    {
     "name": "stdout",
     "output_type": "stream",
     "text": [
      "<Response [200]>\n"
     ]
    },
    {
     "data": {
      "text/plain": [
       "<openeo.rest.job.ClientJob at 0x7fb3cdb58f28>"
      ]
     },
     "execution_count": 10,
     "output_type": "execute_result",
     "metadata": {}
    }
   ],
   "source": [
    "# Download job result\n",
    "from openeo.rest.job import ClientJob\n",
    "job = ClientJob(97, session)\n",
    "job.download(OUTPUT_FILE)\n",
    "\n",
    "job"
   ]
  },
  {
   "cell_type": "code",
   "execution_count": 2,
   "metadata": {},
   "outputs": [
    {
     "name": "stdout",
     "output_type": "stream",
     "text": [
      "Driver: GTiff/GeoTIFF\r\n",
      "Files: /tmp/openeo_eodc_output.tiff\r\n",
      "       /tmp/openeo_eodc_output.tiff.aux.xml\r\n",
      "Size is 953, 622\r\n",
      "Coordinate System is:\r\n",
      "GEOGCS[\"WGS 84\",\r\n",
      "    DATUM[\"WGS_1984\",\r\n",
      "        SPHEROID[\"WGS 84\",6378137,298.257223563,\r\n",
      "            AUTHORITY[\"EPSG\",\"7030\"]],\r\n",
      "        AUTHORITY[\"EPSG\",\"6326\"]],\r\n",
      "    PRIMEM[\"Greenwich\",0],\r\n",
      "    UNIT[\"degree\",0.0174532925199433],\r\n",
      "    AUTHORITY[\"EPSG\",\"4326\"]]\r\n",
      "Origin = (10.984051868786896,46.760379340476071)\r\n",
      "Pixel Size = (0.000281691226781,-0.000281691226781)\r\n",
      "Metadata:\r\n",
      "  AREA_OR_POINT=Area\r\n",
      "Image Structure Metadata:\r\n",
      "  INTERLEAVE=BAND\r\n",
      "Corner Coordinates:\r\n",
      "Upper Left  (  10.9840519,  46.7603793) ( 10d59' 2.59\"E, 46d45'37.37\"N)\r\n",
      "Lower Left  (  10.9840519,  46.5851674) ( 10d59' 2.59\"E, 46d35' 6.60\"N)\r\n",
      "Upper Right (  11.2525036,  46.7603793) ( 11d15' 9.01\"E, 46d45'37.37\"N)\r\n",
      "Lower Right (  11.2525036,  46.5851674) ( 11d15' 9.01\"E, 46d35' 6.60\"N)\r\n",
      "Center      (  11.1182777,  46.6727734) ( 11d 7' 5.80\"E, 46d40'21.98\"N)\r\n",
      "Band 1 Block=953x2 Type=Float32, ColorInterp=Gray\r\n",
      "  1000 buckets from inf to -8.98847e+304:\r\n",
      "  0 0 0 0 0 0 0 0 0 0 0 0 0 0 0 0 0 0 0 0 0 0 0 0 0 0 0 0 0 0 0 0 0 0 0 0 0 0 0 0 0 0 0 0 0 0 0 0 0 0 0 0 0 0 0 0 0 0 0 0 0 0 0 0 0 0 0 0 0 0 0 0 0 0 0 0 0 0 0 0 0 0 0 0 0 0 0 0 0 0 0 0 0 0 0 0 0 0 0 0 0 0 0 0 0 0 0 0 0 0 0 0 0 0 0 0 0 0 0 0 0 0 0 0 0 0 0 0 0 0 0 0 0 0 0 0 0 0 0 0 0 0 0 0 0 0 0 0 0 0 0 0 0 0 0 0 0 0 0 0 0 0 0 0 0 0 0 0 0 0 0 0 0 0 0 0 0 0 0 0 0 0 0 0 0 0 0 0 0 0 0 0 0 0 0 0 0 0 0 0 0 0 0 0 0 0 0 0 0 0 0 0 0 0 0 0 0 0 0 0 0 0 0 0 0 0 0 0 0 0 0 0 0 0 0 0 0 0 0 0 0 0 0 0 0 0 0 0 0 0 0 0 0 0 0 0 0 0 0 0 0 0 0 0 0 0 0 0 0 0 0 0 0 0 0 0 0 0 0 0 0 0 0 0 0 0 0 0 0 0 0 0 0 0 0 0 0 0 0 0 0 0 0 0 0 0 0 0 0 0 0 0 0 0 0 0 0 0 0 0 0 0 0 0 0 0 0 0 0 0 0 0 0 0 0 0 0 0 0 0 0 0 0 0 0 0 0 0 0 0 0 0 0 0 0 0 0 0 0 0 0 0 0 0 0 0 0 0 0 0 0 0 0 0 0 0 0 0 0 0 0 0 0 0 0 0 0 0 0 0 0 0 0 0 0 0 0 0 0 0 0 0 0 0 0 0 0 0 0 0 0 0 0 0 0 0 0 0 0 0 0 0 0 0 0 0 0 0 0 0 0 0 0 0 0 0 0 0 0 0 0 0 0 0 0 0 0 0 0 0 0 0 0 0 0 0 0 0 0 0 0 0 0 0 0 0 0 0 0 0 0 0 0 0 0 0 0 0 0 0 0 0 0 0 0 0 0 0 0 0 0 0 0 0 0 0 0 0 0 0 0 0 0 0 0 0 0 0 0 0 0 0 0 0 0 0 0 0 0 0 0 0 0 0 0 0 0 0 0 0 0 0 0 0 0 0 0 0 0 0 0 0 0 0 0 0 0 0 0 0 0 0 0 0 0 0 0 0 0 0 0 0 0 0 0 0 0 0 0 0 0 0 0 0 0 0 0 0 0 0 0 0 0 0 0 0 0 0 0 0 0 0 0 0 0 0 0 0 0 0 0 0 0 0 0 0 0 0 0 0 0 0 0 0 0 0 0 0 0 0 0 0 0 0 0 0 0 0 0 0 0 0 0 0 0 0 0 0 0 0 0 0 0 0 0 0 0 0 0 0 0 0 0 0 0 0 0 0 0 0 0 0 0 0 0 0 0 0 0 0 0 0 0 0 0 0 0 0 0 0 0 0 0 0 0 0 0 0 0 0 0 0 0 0 0 0 0 0 0 0 0 0 0 0 0 0 0 0 0 0 0 0 0 0 0 0 0 0 0 0 0 0 0 0 0 0 0 0 0 0 0 0 0 0 0 0 0 0 0 0 0 0 0 0 0 0 0 0 0 0 0 0 0 0 0 0 0 0 0 0 0 0 0 0 0 0 0 0 0 0 0 0 0 0 0 0 0 0 0 0 0 0 0 0 0 0 0 0 0 0 0 0 0 0 0 0 0 0 0 0 0 0 0 0 0 0 0 0 0 0 0 0 0 0 0 0 0 0 0 0 0 0 0 0 0 0 0 0 0 0 0 0 0 0 0 0 0 0 0 0 0 0 0 0 0 0 0 0 0 0 0 0 0 0 0 0 0 0 0 0 0 0 0 0 0 0 0 0 0 0 0 0 0 0 0 0 0 0 0 0 0 0 0 0 0 0 0 0 0 0 0 0 0 0 0 0 0 0 0 0 0 0 0 0 0 0 0 0 0 0 0 0 0 0 0 0 0 0 0 0 0 0 0 0 0 0 0 0 0 0 0 0 0 0 0 0 0 0 0 0 0 0 0 0 0 0 0 0 0 0 0 0 0 0 0 0 0 0 0 0 0 0 0 0 0 0 0 0 0 0 0 0 0 0 0 0 0 0 0 0 0 0 0 0 0 0 0 0 0 0 0 0 0 0 0 0 0 0 0 0 \r\n",
      "  NoData Value=2\r\n"
     ]
    }
   ],
   "source": [
    "# Showing the result\n",
    "!gdalinfo -hist \"/tmp/openeo_eodc_output.tiff\""
   ]
  },
  {
   "cell_type": "code",
   "execution_count": null,
   "metadata": {},
   "outputs": [],
   "source": [
    ""
   ]
  }
 ],
 "metadata": {
  "kernelspec": {
   "display_name": "Python 3",
   "language": "python",
   "name": "python3"
  },
  "language_info": {
   "codemirror_mode": {
    "name": "ipython",
    "version": 3.0
   },
   "file_extension": ".py",
   "mimetype": "text/x-python",
   "name": "python",
   "nbconvert_exporter": "python",
   "pygments_lexer": "ipython3",
   "version": "3.6.4"
  }
 },
 "nbformat": 4,
 "nbformat_minor": 2
}